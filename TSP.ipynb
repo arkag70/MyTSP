{
 "cells": [
  {
   "cell_type": "code",
   "execution_count": 1,
   "metadata": {},
   "outputs": [],
   "source": [
    "import numpy as np\n",
    "import string\n",
    "import operator\n",
    "import itertools\n",
    "import matplotlib.pyplot as plt\n",
    "import seaborn as sns\n",
    "from IPython.display import clear_output\n",
    "import random as r\n",
    "%matplotlib inline"
   ]
  },
  {
   "cell_type": "code",
   "execution_count": 2,
   "metadata": {},
   "outputs": [],
   "source": [
    "N=10\n",
    "pop = 500\n",
    "distance_matrix = np.zeros(shape=[N,N])\n",
    "mu_rate = 0.01"
   ]
  },
  {
   "cell_type": "code",
   "execution_count": 3,
   "metadata": {},
   "outputs": [],
   "source": [
    "words = string.ascii_uppercase\n",
    "points = words[:N]\n",
    "\n",
    "def get_coordinates(N):\n",
    "    coordinates={}\n",
    "    for i in range(N):\n",
    "        coordinates[words[i]] = (np.random.randint(50),np.random.randint(50))\n",
    "    return coordinates\n",
    "\n",
    "coordinates = get_coordinates(N)"
   ]
  },
  {
   "cell_type": "code",
   "execution_count": 4,
   "metadata": {},
   "outputs": [],
   "source": [
    "def setup_distance_matrix():\n",
    "    \n",
    "    #form the distance matrix\n",
    "    for i in range(len(points)):\n",
    "        for j in range(len(points)):\n",
    "            distance_matrix[i][j] = calculate_distance(coordinates[points[i]],coordinates[points[j]])\n",
    "\n",
    "def calculate_distance(t1,t2):\n",
    "    x1 = t1[0]\n",
    "    x2 = t2[0]\n",
    "    y1 = t1[1]\n",
    "    y2 = t2[1]\n",
    "    return ((x2-x1)**2 + (y2-y1)**2)**0.5\n",
    "\n",
    "def get_plot(route):\n",
    "    a=[]\n",
    "    b=[]\n",
    "    for i in route:\n",
    "        a.append(coordinates[i][0])\n",
    "        b.append(coordinates[i][1])\n",
    "    plt.plot(a,b,'b-o')\n",
    "    plt.pause(0.0001)\n",
    "\n",
    "def initialise():\n",
    "    x=[]\n",
    "    cities=[]\n",
    "    for i in points:\n",
    "        cities.append(i)\n",
    "    for i in range(pop):\n",
    "        r.shuffle(cities)\n",
    "        x.append(''.join(cities))    \n",
    "    return x\n",
    "\n",
    "def route_distance(route):\n",
    "    dist=0\n",
    "    for i in range(len(route)-1):\n",
    "        t1=coordinates[route[i]]\n",
    "        t2=coordinates[route[i+1]]\n",
    "        dist += calculate_distance(t1,t2)\n",
    "    return dist\n",
    "\n",
    "def f(x):\n",
    "    y=[]\n",
    "    for i in x:\n",
    "        y.append(route_distance(i))\n",
    "    return y\n",
    "\n",
    "def get_mut(route):\n",
    "    r_list=[]\n",
    "    for i in route:\n",
    "        r_list.append(i)\n",
    "    \n",
    "    for i in range(N):\n",
    "        if np.random.rand() < mu_rate:   \n",
    "            i1 = np.random.randint(N)\n",
    "            i2 = np.random.randint(N)\n",
    "            r_list[i1],r_list[i2] = r_list[i2],r_list[i1]\n",
    "    return ''.join(r_list)\n",
    "\n",
    "def mutation(x):\n",
    "    for i in range(len(x)):\n",
    "        x[i] = get_mut(x[i])\n",
    "    return x\n",
    "\n",
    "def get_cross(route):\n",
    "    '''initial = route\n",
    "    r_list=[]\n",
    "    for i in route:\n",
    "        r_list.append(i)\n",
    "    r.shuffle(r_list)\n",
    "    final = ''.join(r_list)\n",
    "    \n",
    "    if(route_distance(final)<route_distance(initial)):\n",
    "        return final\n",
    "    else:\n",
    "        return initial'''\n",
    "    \n",
    "    \n",
    "\n",
    "def crossover(x):\n",
    "    for i in range(len(x)):\n",
    "        new_route = \"\"\n",
    "        route1 = x[np.random.randint(pop)]\n",
    "        route2 = x[np.random.randint(pop)]\n",
    "        a = np.random.randint(N)\n",
    "        b = np.random.randint(N)\n",
    "        start = min([a,b])\n",
    "        end = max([a,b])\n",
    "        new_route = route1[start:end]\n",
    "        for j in route2:\n",
    "            if j not in new_route:\n",
    "                new_route = new_route+j\n",
    "        x[i] = new_route\n",
    "    return x"
   ]
  },
  {
   "cell_type": "code",
   "execution_count": null,
   "metadata": {},
   "outputs": [],
   "source": []
  },
  {
   "cell_type": "code",
   "execution_count": 5,
   "metadata": {
    "scrolled": true
   },
   "outputs": [
    {
     "name": "stdout",
     "output_type": "stream",
     "text": [
      "Generation 4552. Best route: CBEDHFIJGA, distance = 102.12592094714476\n"
     ]
    },
    {
     "data": {
      "image/png": "[encoded data removed]",
      "text/plain": [
       "<Figure size 432x288 with 1 Axes>"
      ]
     },
     "metadata": {},
     "output_type": "display_data"
    },
    {
     "name": "stdout",
     "output_type": "stream",
     "text": [
      "done\n"
     ]
    }
   ],
   "source": [
    "x = initialise()\n",
    "y = f(x)\n",
    "best_y = min(y)\n",
    "best_route = x[operator.indexOf(y,best_y)]\n",
    "best=[]\n",
    "for i in range(5000):\n",
    "    x = crossover(x)\n",
    "    x = mutation(x)\n",
    "    y = f(x)\n",
    "    if min(y) < best_y:\n",
    "        plt.clf()\n",
    "        best_y = min(y)\n",
    "        best_route = x[operator.indexOf(y,best_y)]\n",
    "        best.append(best_y)\n",
    "        clear_output()\n",
    "        print(f\"Generation {i+1}. Best route: {best_route}, distance = {best_y}\")\n",
    "        get_plot(best_route)\n",
    "print(\"done\")"
   ]
  },
  {
   "cell_type": "code",
   "execution_count": null,
   "metadata": {},
   "outputs": [],
   "source": []
  },
  {
   "cell_type": "code",
   "execution_count": null,
   "metadata": {},
   "outputs": [],
   "source": []
  },
  {
   "cell_type": "code",
   "execution_count": null,
   "metadata": {},
   "outputs": [],
   "source": []
  },
  {
   "cell_type": "code",
   "execution_count": null,
   "metadata": {},
   "outputs": [],
   "source": []
  },
  {
   "cell_type": "code",
   "execution_count": null,
   "metadata": {},
   "outputs": [],
   "source": []
  },
  {
   "cell_type": "code",
   "execution_count": null,
   "metadata": {},
   "outputs": [],
   "source": []
  }
 ],
 "metadata": {
  "kernelspec": {
   "display_name": "Python 3",
   "language": "python",
   "name": "python3"
  },
  "language_info": {
   "codemirror_mode": {
    "name": "ipython",
    "version": 3
   },
   "file_extension": ".py",
   "mimetype": "text/x-python",
   "name": "python",
   "nbconvert_exporter": "python",
   "pygments_lexer": "ipython3",
   "version": "3.6.5"
  }
 },
 "nbformat": 4,
 "nbformat_minor": 2
}
